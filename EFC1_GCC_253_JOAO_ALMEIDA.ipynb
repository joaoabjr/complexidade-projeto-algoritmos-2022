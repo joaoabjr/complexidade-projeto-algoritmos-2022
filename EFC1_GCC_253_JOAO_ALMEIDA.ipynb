{
  "nbformat": 4,
  "nbformat_minor": 0,
  "metadata": {
    "colab": {
      "name": "EFC1_GCC_253.ipynb",
      "provenance": [],
      "collapsed_sections": [],
      "toc_visible": true,
      "include_colab_link": true
    },
    "kernelspec": {
      "name": "python3",
      "display_name": "Python 3"
    },
    "language_info": {
      "name": "python"
    },
    "accelerator": "GPU",
    "gpuClass": "standard"
  },
  "cells": [
    {
      "cell_type": "markdown",
      "metadata": {
        "id": "view-in-github",
        "colab_type": "text"
      },
      "source": [
        "<a href=\"https://colab.research.google.com/github/joaoabjr/complexidade-projeto-algoritmos-2022/blob/main/EFC1_GCC_253_JOAO_ALMEIDA.ipynb\" target=\"_parent\"><img src=\"https://colab.research.google.com/assets/colab-badge.svg\" alt=\"Open In Colab\"/></a>"
      ]
    },
    {
      "cell_type": "markdown",
      "source": [
        "# EFC1 GCC253 - Complexidade e Projeto de Algoritmos\n",
        "\n",
        "\n",
        "> **Prof.: Douglas H. S. Abreu**\n",
        "\n",
        "\n",
        "**Aluno**: João Almeida Barbosa Júnior e Taiane Rodrigues\n",
        "\n",
        "**Matricula**: 201820285 e 201821036\n",
        "\n",
        "**Turma**: 10A\n",
        "\n",
        "Link do repositório GitHub: \n",
        "\n",
        "● O trabalho deve ser feito em grupos de no máximo 2 componentes (todos devem enviar a atividade no Campus Virtual)\n",
        "\n",
        "● Trabalhos entregues após a data limite não serão aceitos\n",
        "\n",
        "● Data limite de entrega: 24 de Julho de 2022 : 23h55m\n",
        "\n",
        "● Enviar o trabalho para o campus virtual, do seguinte modo: link do repositório GitHub e do Colab para acesso ao Notebook. A Documentação deve estar no readme\n",
        "\n",
        "● O trabalho deve ser desenvolvido no modelo Notebook utilizando a linguagem Python"
      ],
      "metadata": {
        "id": "XAdlKnDBj5uB"
      }
    },
    {
      "cell_type": "markdown",
      "source": [
        "# Importações e Variáveis globais"
      ],
      "metadata": {
        "id": "J3d6JlRUxREN"
      }
    },
    {
      "cell_type": "code",
      "source": [
        "import numpy as np\n",
        "import random\n",
        "import time\n",
        "import matplotlib.pyplot as plt\n",
        "\n",
        "global_1=0"
      ],
      "metadata": {
        "id": "Ur1DVGQAxac4"
      },
      "execution_count": null,
      "outputs": []
    },
    {
      "cell_type": "markdown",
      "source": [
        "# Funções de Ordenação\n",
        "\n",
        "> Utilize este espaço para definir as funções de ordenação vista em sala de aula\n",
        "\n"
      ],
      "metadata": {
        "id": "kPNpzNYwkKAO"
      }
    },
    {
      "cell_type": "markdown",
      "source": [
        "##  Insertion Sort\n"
      ],
      "metadata": {
        "id": "nEw1UEsmoKMg"
      }
    },
    {
      "cell_type": "code",
      "source": [
        "def insertionSort(array):\n",
        "  comparacao = 0\n",
        "  inicio =  time.time()\n",
        "  for j in range (1, len(array)):\n",
        "    comparacao += 1\n",
        "    chave = array[j]\n",
        "    i = j - 1\n",
        "    while i >= 0 and array[i] > chave:\n",
        "      comparacao += 1\n",
        "      array[i+1] = array[i]\n",
        "      i = i - 1\n",
        "\n",
        "    array[i+1] = chave\n",
        "  \n",
        "  fim = time.time()\n",
        "  tempoExecucao = fim - i\n",
        "  print(\"Número de comparações: \", comparacao)\n",
        "  return tempoExecucao, comparacao"
      ],
      "metadata": {
        "id": "kbOrhdB-j_px"
      },
      "execution_count": null,
      "outputs": []
    },
    {
      "cell_type": "code",
      "source": [
        "array = [12, 0, 45, 25, 9, 21, 29, 10, 6, 50]\n",
        "print(\"Array original (não ordenado): \", array, \"\\n\")\n",
        "insertionSort(array)\n",
        "print(\"\\nArray ordenado: \", array)"
      ],
      "metadata": {
        "colab": {
          "base_uri": "https://localhost:8080/"
        },
        "id": "GvakzjWP5MiQ",
        "outputId": "4ce2e4d4-cfe1-443a-fa70-af1b1fe20911"
      },
      "execution_count": null,
      "outputs": [
        {
          "output_type": "stream",
          "name": "stdout",
          "text": [
            "Array original (não ordenado):  [12, 0, 45, 25, 9, 21, 29, 10, 6, 50] \n",
            "\n",
            "Número de comparações:  29\n",
            "\n",
            "Array ordenado:  [0, 6, 9, 10, 12, 21, 25, 29, 45, 50]\n"
          ]
        }
      ]
    },
    {
      "cell_type": "markdown",
      "source": [
        "\n",
        "\n",
        "---\n",
        "\n",
        "\n",
        "O pior caso para o Insertion Sort é quando o arranjo está em ordem decrescente (ou contrária a ordem de ordenação). O melhor caso é quando o arranjo já está ordenado. Dessa forma, criaremos o arranjo **[10, 9, 8, 7, 6, 5, 4, 3, 2, 1]** representando o pior caso e o arranjo **[1, 2, 3, 4, 5, 6, 7, 8, 9, 10]** representando o melhor caso.\n",
        "\n",
        "---\n",
        "\n"
      ],
      "metadata": {
        "id": "-Rd-kYleGt4m"
      }
    },
    {
      "cell_type": "code",
      "source": [
        "piorCaso = [10, 9, 8, 7, 6, 5, 4, 3, 2, 1] # arranjo de pior caso (ordem decrescente, contrária a ordenação)\n",
        "melhorCaso = [1, 2, 3, 4, 5, 6, 7, 8, 9, 10] # arranjo de melhor caso (já ordenado)\n",
        "arrayAleatório = [92, 0, 5, 31, 33, 39, 40, 75, 15, 99]\n",
        "\n",
        "print(\"----- INSERTION SORT -----\\n\")\n",
        "\n",
        "print(\"PIOR CASO:\")\n",
        "print(\"Arranjo de pior caso antes da ordenação: \", piorCaso)\n",
        "insertionSort(piorCaso)\n",
        "print(\"Arranjo de pior caso após ordenação: \", piorCaso)\n",
        "\n",
        "print(\"\\nMELHOR CASO:\")\n",
        "insertionSort(melhorCaso)\n",
        "print(\"Arranjo de melhor caso após ordenação (mesmo já estando ordenado): \", melhorCaso)\n",
        "\n",
        "print(\"\\nARRANJO ALEATÓRIO:\")\n",
        "print(\"Arranjo aleatório antes da ordenação: \", arrayAleatório)\n",
        "insertionSort(arrayAleatório)\n",
        "print(\"Arranjo aleatório após a ordenação: \", arrayAleatório)"
      ],
      "metadata": {
        "colab": {
          "base_uri": "https://localhost:8080/"
        },
        "id": "LBkXkYBzH6HB",
        "outputId": "a5d7b9ee-0f6b-4763-add3-b39ed6934cb9"
      },
      "execution_count": null,
      "outputs": [
        {
          "output_type": "stream",
          "name": "stdout",
          "text": [
            "----- INSERTION SORT -----\n",
            "\n",
            "PIOR CASO:\n",
            "Arranjo de pior caso antes da ordenação:  [10, 9, 8, 7, 6, 5, 4, 3, 2, 1]\n",
            "Número de comparações:  54\n",
            "Arranjo de pior caso após ordenação:  [1, 2, 3, 4, 5, 6, 7, 8, 9, 10]\n",
            "\n",
            "MELHOR CASO:\n",
            "Número de comparações:  9\n",
            "Arranjo de melhor caso após ordenação (mesmo já estando ordenado):  [1, 2, 3, 4, 5, 6, 7, 8, 9, 10]\n",
            "\n",
            "ARRANJO ALEATÓRIO:\n",
            "Arranjo aleatório antes da ordenação:  [92, 0, 5, 31, 33, 39, 40, 75, 15, 99]\n",
            "Número de comparações:  22\n",
            "Arranjo aleatório após a ordenação:  [0, 5, 15, 31, 33, 39, 40, 75, 92, 99]\n"
          ]
        }
      ]
    },
    {
      "cell_type": "code",
      "source": [
        "arranjoPiorCaso, arranjos, arranjoMelhorCaso = [], [], []\n",
        "\n",
        "for i in range(1001):\n",
        "  if i % 5 == 0:\n",
        "    arranjoPiorCaso.append(i)\n",
        "    arranjos.append(i)\n",
        "    arranjoMelhorCaso.append(i)\n",
        "\n",
        "arranjoPiorCaso = arranjoPiorCaso[::-1]\n",
        "arranjos_aleatorio = random.shuffle(arranjos)\n",
        "\n",
        "tempoMedio, countMedio = insertionSort(arranjos)\n",
        "tempoPior, countPior = insertionSort(arranjoPiorCaso)\n",
        "tempoMelhor, countMelhor = insertionSort(arranjoMelhorCaso)\n",
        "\n",
        "print(tempoMedio, countMedio)\n",
        "print(tempoPior, countPior)\n",
        "print(tempoMelhor, countMelhor)\n",
        "\n",
        "plt.plot([tempoPior,tempoMedio, tempoMelhor])\n",
        "plt.show()\n",
        "\n",
        "plt.plot([countPior, countMedio, countMelhor])\n",
        "plt.show()"
      ],
      "metadata": {
        "colab": {
          "base_uri": "https://localhost:8080/",
          "height": 628
        },
        "id": "_HFwHMbya7Du",
        "outputId": "fada3ee8-3d4f-4f05-c36a-4648346c039c"
      },
      "execution_count": null,
      "outputs": [
        {
          "output_type": "stream",
          "name": "stdout",
          "text": [
            "Número de comparações:  9061\n",
            "Número de comparações:  20300\n",
            "Número de comparações:  200\n",
            "1658887678.6762507 9061\n",
            "1658887874.6862774 20300\n",
            "1658887674.6876094 200\n"
          ]
        },
        {
          "output_type": "display_data",
          "data": {
            "text/plain": [
              "<Figure size 432x288 with 1 Axes>"
            ],
            "image/png": "[encoded data removed]"
          },
          "metadata": {
            "needs_background": "light"
          }
        },
        {
          "output_type": "display_data",
          "data": {
            "text/plain": [
              "<Figure size 432x288 with 1 Axes>"
            ],
            "image/png": "[encoded data removed]"
          },
          "metadata": {
            "needs_background": "light"
          }
        }
      ]
    },
    {
      "cell_type": "markdown",
      "source": [
        "##  Merge Sort\n"
      ],
      "metadata": {
        "id": "9a-wJwU-wtmQ"
      }
    },
    {
      "cell_type": "code",
      "source": [
        "def mergeSort(array):\n",
        "  comparacao = 0\n",
        "  inicio =  time.time()\n",
        "\n",
        "  if len(array) > 1:\n",
        "    comparacao += 1\n",
        "    meio = int(len(array)/2)\n",
        "    i, j, k = 0, 0, 0\n",
        "    arrayEsquerda = array[:meio] # até o meio\n",
        "    arrayDireita = array[meio:] # do meio para frente\n",
        "\n",
        "    mergeSort(arrayEsquerda)\n",
        "    mergeSort(arrayDireita)\n",
        "\n",
        "    while i < len(arrayEsquerda) and j < len(arrayDireita):\n",
        "      if arrayEsquerda[i] < arrayDireita[j]:\n",
        "        comparacao += 1\n",
        "        array[k] = arrayEsquerda[i]\n",
        "        i = i + 1\n",
        "      else:\n",
        "        array[k] = arrayDireita[j]\n",
        "        j = j + 1\n",
        "      k = k + 1 #iterando com o K\n",
        "\n",
        "    while i < len(arrayEsquerda):\n",
        "      comparacao += 1\n",
        "      array[k] = arrayEsquerda[i]\n",
        "      i = i + 1\n",
        "      k = k + 1\n",
        "\n",
        "    while j < len(arrayDireita):\n",
        "      comparacao += 1\n",
        "      array[k] = arrayDireita[j]\n",
        "      j = j + 1\n",
        "      k = k + 1\n",
        " \n",
        "  fim = time.time()\n",
        "  tempoExecucao = fim - inicio\n",
        "  return tempoExecucao, comparacao"
      ],
      "metadata": {
        "id": "8cgIJ_4EwbPN"
      },
      "execution_count": null,
      "outputs": []
    },
    {
      "cell_type": "code",
      "source": [
        "array = [92, 0, 5, 31, 33, 39, 40, 75, 15, 99]\n",
        "print(\"Array original (não ordenado): \", array, \"\\n\")\n",
        "print(\"Número de comparações: \", comparacao)\n",
        "global_1 = 0\n",
        "print(\"\\nArray ordenado: \", mergeSort(array))"
      ],
      "metadata": {
        "colab": {
          "base_uri": "https://localhost:8080/",
          "height": 269
        },
        "id": "97ItCBxp5XP3",
        "outputId": "cf522a3a-c182-406d-9be4-028bd04860e6"
      },
      "execution_count": null,
      "outputs": [
        {
          "output_type": "stream",
          "name": "stdout",
          "text": [
            "Array original (não ordenado):  [92, 0, 5, 31, 33, 39, 40, 75, 15, 99] \n",
            "\n"
          ]
        },
        {
          "output_type": "error",
          "ename": "NameError",
          "evalue": "ignored",
          "traceback": [
            "\u001b[0;31m---------------------------------------------------------------------------\u001b[0m",
            "\u001b[0;31mNameError\u001b[0m                                 Traceback (most recent call last)",
            "\u001b[0;32m<ipython-input-11-dfd9a5fc90a7>\u001b[0m in \u001b[0;36m<module>\u001b[0;34m()\u001b[0m\n\u001b[1;32m      1\u001b[0m \u001b[0marray\u001b[0m \u001b[0;34m=\u001b[0m \u001b[0;34m[\u001b[0m\u001b[0;36m92\u001b[0m\u001b[0;34m,\u001b[0m \u001b[0;36m0\u001b[0m\u001b[0;34m,\u001b[0m \u001b[0;36m5\u001b[0m\u001b[0;34m,\u001b[0m \u001b[0;36m31\u001b[0m\u001b[0;34m,\u001b[0m \u001b[0;36m33\u001b[0m\u001b[0;34m,\u001b[0m \u001b[0;36m39\u001b[0m\u001b[0;34m,\u001b[0m \u001b[0;36m40\u001b[0m\u001b[0;34m,\u001b[0m \u001b[0;36m75\u001b[0m\u001b[0;34m,\u001b[0m \u001b[0;36m15\u001b[0m\u001b[0;34m,\u001b[0m \u001b[0;36m99\u001b[0m\u001b[0;34m]\u001b[0m\u001b[0;34m\u001b[0m\u001b[0;34m\u001b[0m\u001b[0m\n\u001b[1;32m      2\u001b[0m \u001b[0mprint\u001b[0m\u001b[0;34m(\u001b[0m\u001b[0;34m\"Array original (não ordenado): \"\u001b[0m\u001b[0;34m,\u001b[0m \u001b[0marray\u001b[0m\u001b[0;34m,\u001b[0m \u001b[0;34m\"\\n\"\u001b[0m\u001b[0;34m)\u001b[0m\u001b[0;34m\u001b[0m\u001b[0;34m\u001b[0m\u001b[0m\n\u001b[0;32m----> 3\u001b[0;31m \u001b[0mprint\u001b[0m\u001b[0;34m(\u001b[0m\u001b[0;34m\"Número de comparações: \"\u001b[0m\u001b[0;34m,\u001b[0m \u001b[0mcomparacao\u001b[0m\u001b[0;34m)\u001b[0m\u001b[0;34m\u001b[0m\u001b[0;34m\u001b[0m\u001b[0m\n\u001b[0m\u001b[1;32m      4\u001b[0m \u001b[0mglobal_1\u001b[0m \u001b[0;34m=\u001b[0m \u001b[0;36m0\u001b[0m\u001b[0;34m\u001b[0m\u001b[0;34m\u001b[0m\u001b[0m\n\u001b[1;32m      5\u001b[0m \u001b[0mprint\u001b[0m\u001b[0;34m(\u001b[0m\u001b[0;34m\"\\nArray ordenado: \"\u001b[0m\u001b[0;34m,\u001b[0m \u001b[0mmergeSort\u001b[0m\u001b[0;34m(\u001b[0m\u001b[0marray\u001b[0m\u001b[0;34m)\u001b[0m\u001b[0;34m)\u001b[0m\u001b[0;34m\u001b[0m\u001b[0;34m\u001b[0m\u001b[0m\n",
            "\u001b[0;31mNameError\u001b[0m: name 'comparacao' is not defined"
          ]
        }
      ]
    },
    {
      "cell_type": "markdown",
      "source": [
        "\n",
        "\n",
        "---\n",
        "\n",
        "\n",
        "O *Merge Sort* é um algoritmo que divide o arranjo para ordenar por partes (divisão e conquista). Assim, quebra o problema em subproblemas menores e resolve esses subproblemas. Todos os seus casos de complexidade (pior caso, caso médio e melhor caso) são representados por *O(n log n*).\n",
        "\n",
        "\n",
        "---\n",
        "\n"
      ],
      "metadata": {
        "id": "TtIcwxpYOfA8"
      }
    },
    {
      "cell_type": "code",
      "source": [
        "piorCaso = [10, 9, 8, 7, 6, 5, 4, 3, 2, 1] # arranjo de pior caso (ordem decrescente, contrária a ordenação)\n",
        "melhorCaso = [1, 2, 3, 4, 5, 6, 7, 8, 9, 10] # arranjo de melhor caso (já ordenado)\n",
        "arrayAleatório = [92, 0, 5, 31, 33, 39, 40, 75, 15, 99]\n",
        "\n",
        "print(\"----- MERGE SORT -----\\n\")\n",
        "\n",
        "print(\"PIOR CASO:\")\n",
        "print(\"Arranjo de pior caso antes da ordenação: \", piorCaso)\n",
        "mergeSort(piorCaso)\n",
        "print(\"Número de comparações: \", global_1)\n",
        "global_1 = 0\n",
        "print(\"Arranjo de pior caso após ordenação: \", piorCaso)\n",
        "\n",
        "print(\"\\nMELHOR CASO:\")\n",
        "mergeSort(melhorCaso)\n",
        "print(\"Número de comparações: \", global_1)\n",
        "global_1 = 0\n",
        "print(\"Arranjo de melhor caso após ordenação (mesmo já estando ordenado): \", melhorCaso)\n",
        "\n",
        "print(\"\\nARRANJO ALEATÓRIO:\")\n",
        "print(\"Arranjo aleatório antes da ordenação: \", arrayAleatório)\n",
        "mergeSort(arrayAleatório)\n",
        "print(\"Número de comparações: \", global_1)\n",
        "global_1 = 0\n",
        "print(\"Arranjo aleatório após a ordenação: \", arrayAleatório)"
      ],
      "metadata": {
        "colab": {
          "base_uri": "https://localhost:8080/"
        },
        "id": "Jfhg0XKjQqm6",
        "outputId": "ad4f9b0e-1113-47d8-d91e-12479b8d4a64"
      },
      "execution_count": null,
      "outputs": [
        {
          "output_type": "stream",
          "name": "stdout",
          "text": [
            "----- MERGE SORT -----\n",
            "\n",
            "PIOR CASO:\n",
            "Arranjo de pior caso antes da ordenação:  [10, 9, 8, 7, 6, 5, 4, 3, 2, 1]\n",
            "Número de comparações:  142\n",
            "Arranjo de pior caso após ordenação:  [1, 2, 3, 4, 5, 6, 7, 8, 9, 10]\n",
            "\n",
            "MELHOR CASO:\n",
            "Número de comparações:  71\n",
            "Arranjo de melhor caso após ordenação (mesmo já estando ordenado):  [1, 2, 3, 4, 5, 6, 7, 8, 9, 10]\n",
            "\n",
            "ARRANJO ALEATÓRIO:\n",
            "Arranjo aleatório antes da ordenação:  [92, 0, 5, 31, 33, 39, 40, 75, 15, 99]\n",
            "Número de comparações:  71\n",
            "Arranjo aleatório após a ordenação:  [0, 5, 15, 31, 33, 39, 40, 75, 92, 99]\n"
          ]
        }
      ]
    },
    {
      "cell_type": "markdown",
      "source": [
        "##  Selection Sort\n"
      ],
      "metadata": {
        "id": "8dWpeYUvw-wU"
      }
    },
    {
      "cell_type": "code",
      "source": [
        "def selectionSort(array):\n",
        "  comparacao = 0\n",
        "  for i in range(len(array)):\n",
        "    comparacao += 1\n",
        "    menor = i\n",
        "    for j in range(i+1,len(array)):\n",
        "        if array[j] < array[menor]:\n",
        "          comparacao += 1\n",
        "          menor = j\n",
        "\n",
        "    if array[i] != array[menor]:\n",
        "        comparacao += 1\n",
        "        aux = array[i]\n",
        "        array[i] = array[menor]\n",
        "        array[menor] = aux  \n",
        "\n",
        "  print(\"Número de comparações: \", comparacao)\n",
        "  return array"
      ],
      "metadata": {
        "id": "vNgUDShawygu"
      },
      "execution_count": null,
      "outputs": []
    },
    {
      "cell_type": "code",
      "source": [
        "array = [92, 0, 5, 31, 33, 39, 40, 75, 15, 99]\n",
        "print(\"Array original (não ordenado): \", array, \"\\n\")\n",
        "selectionSort(array)\n",
        "print(\"\\nArray ordenado: \", array)"
      ],
      "metadata": {
        "colab": {
          "base_uri": "https://localhost:8080/"
        },
        "id": "fuaDr7lI5e8g",
        "outputId": "bb36d98b-317c-40b0-e011-1bc2840c2b49"
      },
      "execution_count": null,
      "outputs": [
        {
          "output_type": "stream",
          "name": "stdout",
          "text": [
            "Array original (não ordenado):  [92, 0, 5, 31, 33, 39, 40, 75, 15, 99] \n",
            "\n",
            "Número de comparações:  17\n",
            "\n",
            "Array ordenado:  [0, 5, 15, 31, 33, 39, 40, 75, 92, 99]\n"
          ]
        }
      ]
    },
    {
      "cell_type": "markdown",
      "source": [
        "\n",
        "\n",
        "---\n",
        "\n",
        "\n",
        "No **Selection Sort** a comparação é feita com todos os elementos do arranjo (visando procurar o menor número e alocá-lo na sua posição corretamente). Sendo assim, podemos entender que não existe um melhor caso mesmo que o vetor esteja ordenado ou em ordem inversa, serão executados os dois laços do algoritmo (o externo e o interno).\n",
        "Nesse caso, iremos criar um arranjo já ordenado e compará-lo com um arranjo aleatório (ambos com 10 elementos).\n",
        "\n",
        "---\n",
        "\n"
      ],
      "metadata": {
        "id": "sDj0BNTSLH-q"
      }
    },
    {
      "cell_type": "code",
      "source": [
        "arrayAleatório = [2, 6, 4, 5, 9, 1, 3, 10, 7, 8] # arranjo aleatório\n",
        "arrayOrdenado = [1, 2, 3, 4, 5, 6, 7, 8, 9, 10] # arranjo já ordenado\n",
        "arrayPiorCaso = [10, 9, 8, 7, 6, 5, 4, 3, 2, 1] # possível pior caso\n",
        "\n",
        "print(\"----- SELECTION SORT -----\")\n",
        "\n",
        "print(\"\\nARRANJO ALEATÓRIO:\")\n",
        "print(\"Arranjo aleatório antes da ordenação: \", arrayAleatório)\n",
        "selectionSort(arrayAleatório)\n",
        "print(\"Arranjo aleatório após a ordenação: \", arrayAleatório, \"\\n\")\n",
        "\n",
        "print(\"\\nARRANJO ORDENADO:\")\n",
        "selectionSort(arrayOrdenado)\n",
        "print(\"Arranjo de melhor caso após ordenação (mesmo já estando ordenado): \", arrayOrdenado)\n",
        "\n",
        "print(\"\\n\\nARRANJO DE POSSÍVEL PIOR CASO (DECRESCENTE):\")\n",
        "selectionSort(arrayPiorCaso)\n",
        "print(\"Arranjo de melhor caso após ordenação (mesmo já estando ordenado): \", arrayPiorCaso)"
      ],
      "metadata": {
        "colab": {
          "base_uri": "https://localhost:8080/"
        },
        "id": "rDqSwX7dM4OM",
        "outputId": "dc881ab1-01a4-40cc-9ae4-b7eb54760eb3"
      },
      "execution_count": null,
      "outputs": [
        {
          "output_type": "stream",
          "name": "stdout",
          "text": [
            "----- SELECTION SORT -----\n",
            "\n",
            "ARRANJO ALEATÓRIO:\n",
            "Arranjo aleatório antes da ordenação:  [2, 6, 4, 5, 9, 1, 3, 10, 7, 8]\n",
            "Número de comparações:  27\n",
            "Arranjo aleatório após a ordenação:  [1, 2, 3, 4, 5, 6, 7, 8, 9, 10] \n",
            "\n",
            "\n",
            "ARRANJO ORDENADO:\n",
            "Número de comparações:  10\n",
            "Arranjo de melhor caso após ordenação (mesmo já estando ordenado):  [1, 2, 3, 4, 5, 6, 7, 8, 9, 10]\n",
            "\n",
            "\n",
            "ARRANJO DE POSSÍVEL PIOR CASO (DECRESCENTE):\n",
            "Número de comparações:  40\n",
            "Arranjo de melhor caso após ordenação (mesmo já estando ordenado):  [1, 2, 3, 4, 5, 6, 7, 8, 9, 10]\n"
          ]
        }
      ]
    },
    {
      "cell_type": "markdown",
      "source": [
        "##  Bubble Sort\n"
      ],
      "metadata": {
        "id": "zNI1kX0yyDrs"
      }
    },
    {
      "cell_type": "code",
      "source": [
        "def bubbleSort(array):\n",
        "  comparacao = 0\n",
        "  elementos = len(array)-1\n",
        "  for i in range(0, elementos):\n",
        "    comparacao += 1\n",
        "    for j in range(0, elementos):\n",
        "      if array[j] > array[j+1]:\n",
        "        comparacao += 1\n",
        "        array[j], array[j+1] = array[j+1], array[j]\n",
        "  \n",
        "  comparacao += 1\n",
        "  print(\"Número de comparações: \", comparacao)"
      ],
      "metadata": {
        "id": "6X_zk1yWxMQS"
      },
      "execution_count": null,
      "outputs": []
    },
    {
      "cell_type": "code",
      "source": [
        "array = [92, 0, 5, 31, 33, 39, 40, 75, 15, 99]\n",
        "print(\"Arranjo original (não ordenado): \", array, \"\\n\")\n",
        "bubbleSort(array)\n",
        "print(\"\\nArranjo após a ordenação: \", array)"
      ],
      "metadata": {
        "colab": {
          "base_uri": "https://localhost:8080/"
        },
        "id": "XovKgwum5pal",
        "outputId": "a9060c63-2d57-4f14-dcd0-a0371c96cf41"
      },
      "execution_count": null,
      "outputs": [
        {
          "output_type": "stream",
          "name": "stdout",
          "text": [
            "Arranjo original (não ordenado):  [92, 0, 5, 31, 33, 39, 40, 75, 15, 99] \n",
            "\n",
            "Número de comparações:  23\n",
            "\n",
            "Arranjo após a ordenação:  [0, 5, 15, 31, 33, 39, 40, 75, 92, 99]\n"
          ]
        }
      ]
    },
    {
      "cell_type": "markdown",
      "source": [
        "---\n",
        "\n",
        "Para o **Bubble Sort**, seu funcionamento tem como base a troca de dois elementos adjacentes se eles estiverem na ordem errada, até os *n - 1* elementos. De tal forma, temos que o arranjo de pior caso é dado de forma decrescente à ordenação (ordenado de forma contrária, em ordem descrescente).\n",
        "\n",
        "---\n",
        "\n",
        "\n"
      ],
      "metadata": {
        "id": "k7DQgKlhcCBA"
      }
    },
    {
      "cell_type": "code",
      "source": [
        "arrayAleatório = [2, 6, 4, 5, 9, 1, 3, 10, 7, 8] # arranjo aleatório\n",
        "arrayOrdenado = [1, 2, 3, 4, 5, 6, 7, 8, 9, 10] # arranjo já ordenado\n",
        "arrayPiorCaso = [10, 9, 8, 7, 6, 5, 4, 3, 2, 1] # pior caso\n",
        "\n",
        "print(\"----- BUBBLE SORT -----\")\n",
        "\n",
        "print(\"\\nARRANJO Aleatório:\")\n",
        "print(\"Arranjo aleatório antes da ordenação: \", arrayAleatório)\n",
        "bubbleSort(arrayAleatório)\n",
        "print(\"Arranjo aleatório após a ordenação: \", arrayAleatório, \"\\n\")\n",
        "\n",
        "print(\"\\nARRANJO DE MELHOR CASO (JÁ ORDENADO):\")\n",
        "bubbleSort(arrayOrdenado)\n",
        "print(\"Arranjo de melhor caso após ordenação (mesmo já estando ordenado): \", arrayOrdenado)\n",
        "\n",
        "print(\"\\n\\nARRANJO DE PIOR CASO (DESCRESCENTE):\")\n",
        "print(\"Arranjo de pior caso antes da ordenação: \", arrayPiorCaso)\n",
        "bubbleSort(arrayPiorCaso)\n",
        "print(\"Arranjo de pior caso após a ordenação: \", arrayPiorCaso, \"\\n\")"
      ],
      "metadata": {
        "colab": {
          "base_uri": "https://localhost:8080/"
        },
        "outputId": "7ea0e5a3-9318-4f99-db3a-52f174c1fa60",
        "id": "fk6tVxtWggMg"
      },
      "execution_count": null,
      "outputs": [
        {
          "output_type": "stream",
          "name": "stdout",
          "text": [
            "----- BUBBLE SORT -----\n",
            "\n",
            "ARRANJO Aleatório:\n",
            "Arranjo aleatório antes da ordenação:  [2, 6, 4, 5, 9, 1, 3, 10, 7, 8]\n",
            "Número de comparações:  25\n",
            "Arranjo aleatório após a ordenação:  [1, 2, 3, 4, 5, 6, 7, 8, 9, 10] \n",
            "\n",
            "\n",
            "ARRANJO DE MELHOR CASO (JÁ ORDENADO):\n",
            "Número de comparações:  10\n",
            "Arranjo de melhor caso após ordenação (mesmo já estando ordenado):  [1, 2, 3, 4, 5, 6, 7, 8, 9, 10]\n",
            "\n",
            "\n",
            "ARRANJO DE PIOR CASO (DESCRESCENTE):\n",
            "Arranjo de pior caso antes da ordenação:  [10, 9, 8, 7, 6, 5, 4, 3, 2, 1]\n",
            "Número de comparações:  55\n",
            "Arranjo de pior caso após a ordenação:  [1, 2, 3, 4, 5, 6, 7, 8, 9, 10] \n",
            "\n"
          ]
        }
      ]
    },
    {
      "cell_type": "markdown",
      "source": [
        "## Heap Sort"
      ],
      "metadata": {
        "id": "vk4vOTkKyLB-"
      }
    },
    {
      "cell_type": "code",
      "source": [
        "def heapSort(array):\n",
        "  global global_1\n",
        "  tamanho = len(array)\n",
        "\n",
        "  # transformando em MaxHeap\n",
        "  for i in range(tamanho, -1, -1):\n",
        "    global_1 += 1\n",
        "    heapify(array, tamanho, i)\n",
        "\n",
        "  for i in range(tamanho-1, 0, -1):\n",
        "    global_1 += 1\n",
        "    array[i], array[0] = array[0], array[i]\n",
        "    heapify(array, i, 0)\n",
        "  \n",
        "def heapify(array, tamanho, i):\n",
        "  max = i\n",
        "  filhoEsquerdo = 2 * i + 1\n",
        "  filhoDireito = 2 * i + 2\n",
        "  global global_1\n",
        "\n",
        "  if filhoEsquerdo < tamanho and array[i] < array[filhoEsquerdo]:\n",
        "    global_1 += 1\n",
        "    max = filhoEsquerdo\n",
        "  if filhoDireito < tamanho and array[max] < array[filhoDireito]:\n",
        "    global_1 += 1\n",
        "    max = filhoDireito\n",
        "  if max != i:\n",
        "    global_1 += 1\n",
        "    array[i], array[max] = array[max], array[i]\n",
        "    heapify(array, tamanho, max)"
      ],
      "metadata": {
        "id": "39a7xXzLyH9g"
      },
      "execution_count": null,
      "outputs": []
    },
    {
      "cell_type": "code",
      "source": [
        "# criação e impressão do vetor original e ordenado\n",
        "array = [13, 81, 7, 73, 50, 11, 69, 59, 12, 4]\n",
        "print(\"Array original (não ordenado): \", array) \n",
        "heapSort(array) \n",
        "print(\"\\nArray ordenado:\", array) \n",
        "print(\"\\nNúmero de comparações: \", global_1)\n",
        "global_1 = 0 "
      ],
      "metadata": {
        "colab": {
          "base_uri": "https://localhost:8080/"
        },
        "id": "V-_B7yeAGVQa",
        "outputId": "d12f18ac-aac8-49a6-f370-8478e30e58f0"
      },
      "execution_count": null,
      "outputs": [
        {
          "output_type": "stream",
          "name": "stdout",
          "text": [
            "Array original (não ordenado):  [13, 81, 7, 73, 50, 11, 69, 59, 12, 4]\n",
            "\n",
            "Array ordenado: [4, 7, 11, 12, 13, 50, 59, 69, 73, 81]\n",
            "\n",
            "Número de comparações:  56\n"
          ]
        }
      ]
    },
    {
      "cell_type": "markdown",
      "source": [
        "\n",
        "\n",
        "---\n",
        "\n",
        "\n",
        "Para o **Heap Sort**, tem-se que a ordenação é baseada na estrutura de dados heap, a fim de ordenar os elementos assim que são inseridos nessa estrutura. Ao final de cada inserção, pode-se remover os elementos da raiz da heap se desejado, usando sempre a estrutura de max-heap (pai maior que os filhos). Assim, tanto para o pior caso como para o melhor caso, a complexidade é a mesma (*O (n log n)*). De tal modo, iremos representar o arranjo de pior caso como decrescente (de 10 até 1) e o de melhor caso como já ordenado (de 1 até 10). \n",
        "\n",
        "\n",
        "---\n",
        "\n"
      ],
      "metadata": {
        "id": "rG63Rid9BAYu"
      }
    },
    {
      "cell_type": "code",
      "source": [
        "arrayAleatório = [2, 6, 4, 5, 9, 1, 3, 10, 7, 8] # arranjo aleatório\n",
        "arrayOrdenado = [1, 2, 3, 4, 5, 6, 7, 8, 9, 10] # arranjo já ordenado\n",
        "arrayPiorCaso = [10, 9, 8, 7, 6, 5, 4, 3, 2, 1] # pior caso\n",
        "\n",
        "print(\"----- HEAP SORT -----\")\n",
        "\n",
        "print(\"\\nARRANJO ALEATÓRIO:\")\n",
        "print(\"Arranjo aleatório antes da ordenação: \", arrayAleatório)\n",
        "heapSort(arrayAleatório)\n",
        "print(\"Número de comparações: \" , global_1)\n",
        "global_1 = 0 \n",
        "print(\"Arranjo aleatório após a ordenação: \", arrayAleatório, \"\\n\")\n",
        "\n",
        "print(\"\\nARRANJO JÁ ORDENADO:\")\n",
        "heapSort(arrayOrdenado)\n",
        "print(\"Número de comparações: \" , global_1)\n",
        "global_1 = 0 \n",
        "print(\"Arranjo de melhor caso após ordenação (mesmo já estando ordenado): \", arrayOrdenado)\n",
        "\n",
        "print(\"\\n\\nARRANJO DESCRESCENTE:\")\n",
        "print(\"Arranjo de pior caso antes da ordenação: \", arrayPiorCaso)\n",
        "heapSort(arrayPiorCaso)\n",
        "print(\"Número de comparações: \" , global_1)\n",
        "global_1 = 0 \n",
        "print(\"Arranjo de pior caso após a ordenação: \", arrayPiorCaso, \"\\n\")"
      ],
      "metadata": {
        "colab": {
          "base_uri": "https://localhost:8080/"
        },
        "id": "rU1cUjPpGKAZ",
        "outputId": "b4b67faa-e9db-4f1a-a104-01bf25ae72f9"
      },
      "execution_count": null,
      "outputs": [
        {
          "output_type": "stream",
          "name": "stdout",
          "text": [
            "----- HEAP SORT -----\n",
            "\n",
            "ARRANJO ALEATÓRIO:\n",
            "Arranjo aleatório antes da ordenação:  [2, 6, 4, 5, 9, 1, 3, 10, 7, 8]\n",
            "Número de comparações:  59\n",
            "Arranjo aleatório após a ordenação:  [1, 2, 3, 4, 5, 6, 7, 8, 9, 10] \n",
            "\n",
            "\n",
            "ARRANJO JÁ ORDENADO:\n",
            "Número de comparações:  69\n",
            "Arranjo de melhor caso após ordenação (mesmo já estando ordenado):  [1, 2, 3, 4, 5, 6, 7, 8, 9, 10]\n",
            "\n",
            "\n",
            "ARRANJO DESCRESCENTE:\n",
            "Arranjo de pior caso antes da ordenação:  [10, 9, 8, 7, 6, 5, 4, 3, 2, 1]\n",
            "Número de comparações:  47\n",
            "Arranjo de pior caso após a ordenação:  [1, 2, 3, 4, 5, 6, 7, 8, 9, 10] \n",
            "\n"
          ]
        }
      ]
    },
    {
      "cell_type": "markdown",
      "source": [
        "## Quick Sort\n",
        "\n",
        "> pivo = *A[A-comprimento]*"
      ],
      "metadata": {
        "id": "fFiGho5CyU3t"
      }
    },
    {
      "cell_type": "code",
      "source": [
        "def quickSort(array):\n",
        "    global global_1\n",
        "    elementos = len(array)\n",
        "    if elementos < 2:\n",
        "      global_1 += 1\n",
        "      return array\n",
        "    \n",
        "    i = 0 # pivô iniciando em 0 (primeiro elemento)\n",
        "    for j in range(1, elementos):\n",
        "      if array[j] <= array[0]:\n",
        "        global_1 += 1\n",
        "        i += 1\n",
        "        aux = array[j]\n",
        "        array[j] = array[i]\n",
        "        array[i] = aux\n",
        "\n",
        "    aux = array[0]\n",
        "    array[0] = array[i] \n",
        "    array[i] = aux\n",
        "    \n",
        "    arryEsq = quickSort(array[0:i])\n",
        "    arrayDir = quickSort(array[i+1:elementos])\n",
        "    array = arryEsq + [array[i]] + arrayDir\n",
        "    \n",
        "    global_1 += 1\n",
        "    return array"
      ],
      "metadata": {
        "id": "1Ie_N5CRyKY7"
      },
      "execution_count": null,
      "outputs": []
    },
    {
      "cell_type": "code",
      "source": [
        "array = [90, 45, 23, 103, 65, 23, 45, 12, 2, 87]\n",
        "print(\"Array original (sem ordenação): \", array)\n",
        "print(\"\\nNúmero de comparações: \", global_1)\n",
        "global_1 = 0\n",
        "print(\"\\nArray após ordenação: \", quickSort(array))"
      ],
      "metadata": {
        "colab": {
          "base_uri": "https://localhost:8080/"
        },
        "id": "7K8xNlLRWAjH",
        "outputId": "b35d678f-f667-46ea-bc10-d6e31d083523"
      },
      "execution_count": null,
      "outputs": [
        {
          "output_type": "stream",
          "name": "stdout",
          "text": [
            "Array original (sem ordenação):  [90, 45, 23, 103, 65, 23, 45, 12, 2, 87]\n",
            "\n",
            "Número de comparações:  0\n",
            "\n",
            "Array após ordenação:  [2, 12, 23, 23, 45, 45, 65, 87, 90, 103]\n"
          ]
        }
      ]
    },
    {
      "cell_type": "markdown",
      "source": [
        "---\n",
        "\n",
        "O *Quick Sort* também é um algoritmo de divisão e conquista. É necessário selecionar um elemento do arranjo para ser o pivô (que será fundamental para ser o divisor do arranjo, um antes do pivô e um após). Assim, o algoritmo é executado afim de ordenar e arranjar os sub-arranjos criados a partir do pivô. Como pior caso temos *O(n²)*, e para melhor caso temos *O(n log n)*. \n",
        "\n",
        "---"
      ],
      "metadata": {
        "id": "FS-CBNBdRVGp"
      }
    },
    {
      "cell_type": "code",
      "source": [
        "piorCaso = [10, 9, 8, 7, 6, 5, 4, 3, 2, 1] # arranjo de pior caso (ordem decrescente, contrária a ordenação)\n",
        "melhorCaso = [1, 2, 3, 4, 5, 6, 7, 8, 9, 10] # arranjo de melhor caso (já ordenado)\n",
        "arrayAleatório = [92, 0, 5, 31, 33, 39, 40, 75, 15, 99]\n",
        "\n",
        "print(\"----- QUICK SORT -----\\n\")\n",
        "\n",
        "print(\"PIOR CASO:\")\n",
        "print(\"Arranjo de pior caso antes da ordenação: \", piorCaso)\n",
        "quickSort(piorCaso)\n",
        "print(\"Número de comparações: \", global_1)\n",
        "global_1 = 0\n",
        "print(\"Arranjo de pior caso após ordenação: \", piorCaso)\n",
        "\n",
        "print(\"\\nMELHOR CASO:\")\n",
        "quickSort(melhorCaso)\n",
        "print(\"Número de comparações: \", global_1)\n",
        "global_1 = 0\n",
        "print(\"Arranjo de melhor caso após ordenação (mesmo já estando ordenado): \", melhorCaso)\n",
        "\n",
        "print(\"\\nARRANJO ALEATÓRIO:\")\n",
        "print(\"Arranjo aleatório antes da ordenação: \", arrayAleatório)\n",
        "quickSort(arrayAleatório)\n",
        "print(\"Número de comparações: \", global_1)\n",
        "global_1 = 0\n",
        "print(\"Arranjo aleatório após a ordenação: \", arrayAleatório)"
      ],
      "metadata": {
        "colab": {
          "base_uri": "https://localhost:8080/"
        },
        "id": "xOMo37g4RjFt",
        "outputId": "783b8618-9a68-4905-ae2d-bf0bdb8942bf"
      },
      "execution_count": null,
      "outputs": [
        {
          "output_type": "stream",
          "name": "stdout",
          "text": [
            "----- QUICK SORT -----\n",
            "\n",
            "PIOR CASO:\n",
            "Arranjo de pior caso antes da ordenação:  [10, 9, 8, 7, 6, 5, 4, 3, 2, 1]\n",
            "Número de comparações:  77\n",
            "Arranjo de pior caso após ordenação:  [1, 9, 8, 7, 6, 5, 4, 3, 2, 10]\n",
            "\n",
            "MELHOR CASO:\n",
            "Número de comparações:  19\n",
            "Arranjo de melhor caso após ordenação (mesmo já estando ordenado):  [1, 2, 3, 4, 5, 6, 7, 8, 9, 10]\n",
            "\n",
            "ARRANJO ALEATÓRIO:\n",
            "Arranjo aleatório antes da ordenação:  [92, 0, 5, 31, 33, 39, 40, 75, 15, 99]\n",
            "Número de comparações:  26\n",
            "Arranjo aleatório após a ordenação:  [15, 0, 5, 31, 33, 39, 40, 75, 92, 99]\n"
          ]
        }
      ]
    },
    {
      "cell_type": "markdown",
      "source": [
        "# Questões"
      ],
      "metadata": {
        "id": "VomdAnCrzEv1"
      }
    },
    {
      "cell_type": "markdown",
      "source": [
        "\n",
        "\n",
        "1.   Dado um conjunto de arranjos ***A[5,...,1000, passo=5]***\n",
        "\n",
        "> a) Defina o melhor e pior caso para cada um dos algoritmos definidos acima, crie vetores ***A*** para estes casos e faça a comparação gráficamente também com casos aleatórios (plote um gráfico para cada algoritmo). Conte o numero de comparações realizadas para cada uma das execuções.\n",
        "\n",
        "> **RESPOSTA A)** ➡ Os arranjos, tais como os melhores e piores casos de cada algoritmo se encontram nas celulas acima (junto com a própria implementação dos algoritmos de ordenação.)\n",
        "\n",
        "\n",
        "> b) Repita o procedimento acima. Porém compare os algoritmos para pior e melhor caso e também casos aleatórios.\n",
        "\n",
        "> **RESPOSTA B)** ➡ Já está sendo comparado nas respectivas cédulas dos algoritmos de ordenação acima.\n",
        "\n",
        "> c) Qual é o comportamento assintótico para cada um dos algorítmos acima (melhor caso e pior caso, se puder, analise também em casos aleatórios)\n",
        "\n",
        "> **RESPOSTA C)** ➡ \n",
        "> INSERTION SORT > Melhor caso: *O(n)* / Pior caso: *O(n²)*\n",
        "\n",
        "> MERGE SORT > Melhor caso: *O(n log n)* ou *O(n)* / Pior caso: *O(n log n)* \n",
        "\n",
        "> SELECTION SORT > Melhor caso: *O(n²)* / Pior caso: *O(n²)* \n",
        "\n",
        "> BUBBLE SORT > Melhor caso: *O(n)* / Pior caso: *O(n²)*\n",
        "\n",
        "> HEAP SORT > Melhor caso: *O(n log n)* / Pior caso: *O(n log n)*\n",
        "\n",
        "> QUICK SORT > Melhor caso: *O(n log n)*/ Pior caso: *O(n²)*\n",
        "\n",
        "\n",
        "\n",
        "**Obs.:** para os algoritmos QuickSort e Merge Sort mostre apenas um melhor e um pior caso. faça a comparação com os demais métodos com o conjunto ***A*** apenas em casos aleatórios.\n",
        "\n",
        "\n",
        "\n"
      ],
      "metadata": {
        "id": "3QKV979kzItD"
      }
    },
    {
      "cell_type": "markdown",
      "source": [
        "2.   Desenvolva uma versão aleatorizada do QUICKSORT (pivo aleatório) e compare com a versão apresentada em sala de aula e definida acima.\n",
        "\n"
      ],
      "metadata": {
        "id": "9hhEkQam21NC"
      }
    },
    {
      "cell_type": "code",
      "source": [
        "import random\n",
        "def quickSort(array):\n",
        "    global global_1\n",
        "    elementos = len(array)\n",
        "    if elementos < 2:\n",
        "      global_1 += 1\n",
        "      return array\n",
        "    \n",
        "    i = random.randint(0, elementos) #randomizando o pivô (da primeira até a última  posição do vetor)\n",
        "    \n",
        "    tamanho = len(array)-1\n",
        "    auxiliar = array[tamanho]\n",
        "    array[tamanho] = array[i]\n",
        "    array[i] = auxiliar\n",
        "\n",
        "    pivo = array[tamanho]\n",
        "    \n",
        "    for j in range(1, elementos):\n",
        "      global_1 += 1\n",
        "      if array[j] <= array[0]:\n",
        "        global_1 += 1\n",
        "        i += 1\n",
        "        aux = array[j]\n",
        "        array[j] = array[i]\n",
        "        array[i] = aux\n",
        "\n",
        "    aux = array[0]\n",
        "    array[0] = array[i] \n",
        "    array[i] = aux\n",
        "    \n",
        "    arryEsq = quickSort(array[0:i])\n",
        "    arrayDir = quickSort(array[i+1:elementos])\n",
        "    array = arryEsq + [array[i]] + arrayDir\n",
        "    \n",
        "    global_1 += 1\n",
        "    return array"
      ],
      "metadata": {
        "id": "5iShKYhJyEBW"
      },
      "execution_count": null,
      "outputs": []
    },
    {
      "cell_type": "code",
      "source": [
        "array = [90, 45, 23, 103, 65, 23, 45, 12, 2, 87]\n",
        "print(\"Array original (sem ordenação): \", array)\n",
        "print(\"Número de comparações: \", global_1)\n",
        "global_1 = 0\n",
        "print(\"Array ordenado: \", quickSort(array))"
      ],
      "metadata": {
        "colab": {
          "base_uri": "https://localhost:8080/",
          "height": 357
        },
        "id": "_db9nSJpKU44",
        "outputId": "b6aa3275-b2a5-4b84-ffca-fddd7380bcc7"
      },
      "execution_count": null,
      "outputs": [
        {
          "output_type": "stream",
          "name": "stdout",
          "text": [
            "Array original (sem ordenação):  [90, 45, 23, 103, 65, 23, 45, 12, 2, 87]\n",
            "Número de comparações:  16\n"
          ]
        },
        {
          "output_type": "error",
          "ename": "IndexError",
          "evalue": "ignored",
          "traceback": [
            "\u001b[0;31m---------------------------------------------------------------------------\u001b[0m",
            "\u001b[0;31mIndexError\u001b[0m                                Traceback (most recent call last)",
            "\u001b[0;32m<ipython-input-186-0844c63a338e>\u001b[0m in \u001b[0;36m<module>\u001b[0;34m()\u001b[0m\n\u001b[1;32m      3\u001b[0m \u001b[0mprint\u001b[0m\u001b[0;34m(\u001b[0m\u001b[0;34m\"Número de comparações: \"\u001b[0m\u001b[0;34m,\u001b[0m \u001b[0mglobal_1\u001b[0m\u001b[0;34m)\u001b[0m\u001b[0;34m\u001b[0m\u001b[0;34m\u001b[0m\u001b[0m\n\u001b[1;32m      4\u001b[0m \u001b[0mglobal_1\u001b[0m \u001b[0;34m=\u001b[0m \u001b[0;36m0\u001b[0m\u001b[0;34m\u001b[0m\u001b[0;34m\u001b[0m\u001b[0m\n\u001b[0;32m----> 5\u001b[0;31m \u001b[0mprint\u001b[0m\u001b[0;34m(\u001b[0m\u001b[0;34m\"Array ordenado: \"\u001b[0m\u001b[0;34m,\u001b[0m \u001b[0mquickSort\u001b[0m\u001b[0;34m(\u001b[0m\u001b[0marray\u001b[0m\u001b[0;34m)\u001b[0m\u001b[0;34m)\u001b[0m\u001b[0;34m\u001b[0m\u001b[0;34m\u001b[0m\u001b[0m\n\u001b[0m",
            "\u001b[0;32m<ipython-input-185-95373699b720>\u001b[0m in \u001b[0;36mquickSort\u001b[0;34m(array)\u001b[0m\n\u001b[1;32m     20\u001b[0m         \u001b[0mi\u001b[0m \u001b[0;34m+=\u001b[0m \u001b[0;36m1\u001b[0m\u001b[0;34m\u001b[0m\u001b[0;34m\u001b[0m\u001b[0m\n\u001b[1;32m     21\u001b[0m         \u001b[0maux\u001b[0m \u001b[0;34m=\u001b[0m \u001b[0marray\u001b[0m\u001b[0;34m[\u001b[0m\u001b[0mj\u001b[0m\u001b[0;34m]\u001b[0m\u001b[0;34m\u001b[0m\u001b[0;34m\u001b[0m\u001b[0m\n\u001b[0;32m---> 22\u001b[0;31m         \u001b[0marray\u001b[0m\u001b[0;34m[\u001b[0m\u001b[0mj\u001b[0m\u001b[0;34m]\u001b[0m \u001b[0;34m=\u001b[0m \u001b[0marray\u001b[0m\u001b[0;34m[\u001b[0m\u001b[0mi\u001b[0m\u001b[0;34m]\u001b[0m\u001b[0;34m\u001b[0m\u001b[0;34m\u001b[0m\u001b[0m\n\u001b[0m\u001b[1;32m     23\u001b[0m         \u001b[0marray\u001b[0m\u001b[0;34m[\u001b[0m\u001b[0mi\u001b[0m\u001b[0;34m]\u001b[0m \u001b[0;34m=\u001b[0m \u001b[0maux\u001b[0m\u001b[0;34m\u001b[0m\u001b[0;34m\u001b[0m\u001b[0m\n\u001b[1;32m     24\u001b[0m \u001b[0;34m\u001b[0m\u001b[0m\n",
            "\u001b[0;31mIndexError\u001b[0m: list index out of range"
          ]
        }
      ]
    },
    {
      "cell_type": "code",
      "source": [
        "print(\"Boa sorte!!!\")\n",
        "\n",
        "print(\"Obrigado!! \\U0001F606\")"
      ],
      "metadata": {
        "id": "nBfs279_1Vko"
      },
      "execution_count": null,
      "outputs": []
    }
  ]
}